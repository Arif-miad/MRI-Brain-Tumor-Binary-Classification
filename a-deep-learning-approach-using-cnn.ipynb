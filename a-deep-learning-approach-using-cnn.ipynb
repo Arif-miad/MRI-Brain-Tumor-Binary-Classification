{
 "cells": [
  {
   "cell_type": "markdown",
   "id": "b2e2829c",
   "metadata": {
    "papermill": {
     "duration": 0.003282,
     "end_time": "2024-11-26T19:54:30.137643",
     "exception": false,
     "start_time": "2024-11-26T19:54:30.134361",
     "status": "completed"
    },
    "tags": []
   },
   "source": [
    "# Import Libraries"
   ]
  },
  {
   "cell_type": "code",
   "execution_count": 1,
   "id": "5fbd7d2c",
   "metadata": {
    "execution": {
     "iopub.execute_input": "2024-11-26T19:54:30.146902Z",
     "iopub.status.busy": "2024-11-26T19:54:30.146316Z",
     "iopub.status.idle": "2024-11-26T19:54:32.142153Z",
     "shell.execute_reply": "2024-11-26T19:54:32.140908Z"
    },
    "papermill": {
     "duration": 2.004074,
     "end_time": "2024-11-26T19:54:32.144779",
     "exception": false,
     "start_time": "2024-11-26T19:54:30.140705",
     "status": "completed"
    },
    "tags": []
   },
   "outputs": [],
   "source": [
    "import os\n",
    "import cv2\n",
    "import numpy as np\n",
    "from sklearn.model_selection import train_test_split\n",
    "\n",
    "# Paths\n",
    "yes_path = '/kaggle/input/brain-tumor-dataset/Brain MRI/no'  \n",
    "no_path = '/kaggle/input/brain-tumor-dataset/Brain MRI/yes'   \n",
    "\n",
    "data = []\n",
    "labels = []\n",
    "\n",
    "# Load images from the \"Yes\" folder\n",
    "for img in os.listdir(yes_path):\n",
    "    img_array = cv2.imread(os.path.join(yes_path, img), cv2.IMREAD_GRAYSCALE)\n",
    "    img_resized = cv2.resize(img_array, (128, 128))  # Resize to (128, 128)\n",
    "    data.append(img_resized)\n",
    "    labels.append(1)  # Label for \"Yes\" is 1\n",
    "\n",
    "# Load images from the \"No\" folder\n",
    "for img in os.listdir(no_path):\n",
    "    img_array = cv2.imread(os.path.join(no_path, img), cv2.IMREAD_GRAYSCALE)\n",
    "    img_resized = cv2.resize(img_array, (128, 128))\n",
    "    data.append(img_resized)\n",
    "    labels.append(0)  # Label for \"No\" is 0\n",
    "\n",
    "# Convert to NumPy arrays\n",
    "data = np.array(data).reshape(-1, 128, 128, 1) / 255.0  # Normalize pixel values\n",
    "labels = np.array(labels)\n",
    "\n",
    "# Split data into training and testing sets\n",
    "X_train, X_test, y_train, y_test = train_test_split(data, labels, test_size=0.2, random_state=42)\n"
   ]
  },
  {
   "cell_type": "code",
   "execution_count": 2,
   "id": "0449091c",
   "metadata": {
    "execution": {
     "iopub.execute_input": "2024-11-26T19:54:32.152212Z",
     "iopub.status.busy": "2024-11-26T19:54:32.151110Z",
     "iopub.status.idle": "2024-11-26T19:54:55.270860Z",
     "shell.execute_reply": "2024-11-26T19:54:55.269784Z"
    },
    "papermill": {
     "duration": 23.125946,
     "end_time": "2024-11-26T19:54:55.273369",
     "exception": false,
     "start_time": "2024-11-26T19:54:32.147423",
     "status": "completed"
    },
    "tags": []
   },
   "outputs": [
    {
     "name": "stderr",
     "output_type": "stream",
     "text": [
      "/opt/conda/lib/python3.10/site-packages/keras/src/layers/convolutional/base_conv.py:107: UserWarning: Do not pass an `input_shape`/`input_dim` argument to a layer. When using Sequential models, prefer using an `Input(shape)` object as the first layer in the model instead.\n",
      "  super().__init__(activity_regularizer=activity_regularizer, **kwargs)\n"
     ]
    },
    {
     "name": "stdout",
     "output_type": "stream",
     "text": [
      "Epoch 1/10\n",
      "\u001b[1m2/2\u001b[0m \u001b[32m━━━━━━━━━━━━━━━━━━━━\u001b[0m\u001b[37m\u001b[0m \u001b[1m3s\u001b[0m 331ms/step - accuracy: 0.5081 - loss: 0.6688 - val_accuracy: 0.5000 - val_loss: 1.6835\n",
      "Epoch 2/10\n",
      "\u001b[1m2/2\u001b[0m \u001b[32m━━━━━━━━━━━━━━━━━━━━\u001b[0m\u001b[37m\u001b[0m \u001b[1m1s\u001b[0m 133ms/step - accuracy: 0.5660 - loss: 1.1881 - val_accuracy: 0.5000 - val_loss: 0.9548\n",
      "Epoch 3/10\n",
      "\u001b[1m2/2\u001b[0m \u001b[32m━━━━━━━━━━━━━━━━━━━━\u001b[0m\u001b[37m\u001b[0m \u001b[1m1s\u001b[0m 126ms/step - accuracy: 0.5660 - loss: 0.7444 - val_accuracy: 0.5000 - val_loss: 0.7030\n",
      "Epoch 4/10\n",
      "\u001b[1m2/2\u001b[0m \u001b[32m━━━━━━━━━━━━━━━━━━━━\u001b[0m\u001b[37m\u001b[0m \u001b[1m1s\u001b[0m 133ms/step - accuracy: 0.6238 - loss: 0.6144 - val_accuracy: 0.6000 - val_loss: 0.6447\n",
      "Epoch 5/10\n",
      "\u001b[1m2/2\u001b[0m \u001b[32m━━━━━━━━━━━━━━━━━━━━\u001b[0m\u001b[37m\u001b[0m \u001b[1m1s\u001b[0m 127ms/step - accuracy: 0.7106 - loss: 0.5710 - val_accuracy: 0.7000 - val_loss: 0.6348\n",
      "Epoch 6/10\n",
      "\u001b[1m2/2\u001b[0m \u001b[32m━━━━━━━━━━━━━━━━━━━━\u001b[0m\u001b[37m\u001b[0m \u001b[1m1s\u001b[0m 133ms/step - accuracy: 0.7894 - loss: 0.5189 - val_accuracy: 0.8000 - val_loss: 0.6463\n",
      "Epoch 7/10\n",
      "\u001b[1m2/2\u001b[0m \u001b[32m━━━━━━━━━━━━━━━━━━━━\u001b[0m\u001b[37m\u001b[0m \u001b[1m1s\u001b[0m 133ms/step - accuracy: 0.7396 - loss: 0.4842 - val_accuracy: 0.8000 - val_loss: 0.6113\n",
      "Epoch 8/10\n",
      "\u001b[1m2/2\u001b[0m \u001b[32m━━━━━━━━━━━━━━━━━━━━\u001b[0m\u001b[37m\u001b[0m \u001b[1m1s\u001b[0m 137ms/step - accuracy: 0.7894 - loss: 0.4343 - val_accuracy: 0.7000 - val_loss: 0.5598\n",
      "Epoch 9/10\n",
      "\u001b[1m2/2\u001b[0m \u001b[32m━━━━━━━━━━━━━━━━━━━━\u001b[0m\u001b[37m\u001b[0m \u001b[1m1s\u001b[0m 144ms/step - accuracy: 0.7789 - loss: 0.4670 - val_accuracy: 0.8000 - val_loss: 0.7142\n",
      "Epoch 10/10\n",
      "\u001b[1m2/2\u001b[0m \u001b[32m━━━━━━━━━━━━━━━━━━━━\u001b[0m\u001b[37m\u001b[0m \u001b[1m1s\u001b[0m 133ms/step - accuracy: 0.8368 - loss: 0.3839 - val_accuracy: 0.8000 - val_loss: 0.8343\n"
     ]
    }
   ],
   "source": [
    "from tensorflow.keras.models import Sequential\n",
    "from tensorflow.keras.layers import Conv2D, MaxPooling2D, Flatten, Dense, Dropout\n",
    "\n",
    "# Define the CNN model\n",
    "model = Sequential([\n",
    "    Conv2D(32, (3, 3), activation='relu', input_shape=(128, 128, 1)),\n",
    "    MaxPooling2D((2, 2)),\n",
    "    \n",
    "    Conv2D(64, (3, 3), activation='relu'),\n",
    "    MaxPooling2D((2, 2)),\n",
    "    \n",
    "    Conv2D(128, (3, 3), activation='relu'),\n",
    "    MaxPooling2D((2, 2)),\n",
    "    \n",
    "    Flatten(),\n",
    "    Dense(128, activation='relu'),\n",
    "    Dropout(0.5),\n",
    "    Dense(1, activation='sigmoid')  # Binary classification\n",
    "])\n",
    "\n",
    "# Compile the model\n",
    "model.compile(optimizer='adam', loss='binary_crossentropy', metrics=['accuracy'])\n",
    "\n",
    "# Train the model\n",
    "history = model.fit(X_train, y_train, epochs=10, batch_size=32, validation_split=0.2)\n"
   ]
  },
  {
   "cell_type": "code",
   "execution_count": 3,
   "id": "d9f85a76",
   "metadata": {
    "execution": {
     "iopub.execute_input": "2024-11-26T19:54:55.285369Z",
     "iopub.status.busy": "2024-11-26T19:54:55.284587Z",
     "iopub.status.idle": "2024-11-26T19:54:55.411107Z",
     "shell.execute_reply": "2024-11-26T19:54:55.410010Z"
    },
    "papermill": {
     "duration": 0.13485,
     "end_time": "2024-11-26T19:54:55.413447",
     "exception": false,
     "start_time": "2024-11-26T19:54:55.278597",
     "status": "completed"
    },
    "tags": []
   },
   "outputs": [
    {
     "name": "stdout",
     "output_type": "stream",
     "text": [
      "\u001b[1m1/1\u001b[0m \u001b[32m━━━━━━━━━━━━━━━━━━━━\u001b[0m\u001b[37m\u001b[0m \u001b[1m0s\u001b[0m 66ms/step - accuracy: 0.6667 - loss: 0.7085\n",
      "Test Accuracy: 0.67\n"
     ]
    }
   ],
   "source": [
    "# Evaluate on test data\n",
    "test_loss, test_accuracy = model.evaluate(X_test, y_test)\n",
    "print(f\"Test Accuracy: {test_accuracy:.2f}\")\n"
   ]
  },
  {
   "cell_type": "code",
   "execution_count": 4,
   "id": "db269ac9",
   "metadata": {
    "execution": {
     "iopub.execute_input": "2024-11-26T19:54:55.425335Z",
     "iopub.status.busy": "2024-11-26T19:54:55.424894Z",
     "iopub.status.idle": "2024-11-26T19:54:56.356424Z",
     "shell.execute_reply": "2024-11-26T19:54:56.354900Z"
    },
    "papermill": {
     "duration": 0.940265,
     "end_time": "2024-11-26T19:54:56.358920",
     "exception": false,
     "start_time": "2024-11-26T19:54:55.418655",
     "status": "completed"
    },
    "tags": []
   },
   "outputs": [
    {
     "name": "stdout",
     "output_type": "stream",
     "text": [
      "\u001b[1m1/1\u001b[0m \u001b[32m━━━━━━━━━━━━━━━━━━━━\u001b[0m\u001b[37m\u001b[0m \u001b[1m0s\u001b[0m 120ms/step\n"
     ]
    },
    {
     "data": {
      "image/png": "[encoded data removed]",
      "text/plain": [
       "<Figure size 640x480 with 2 Axes>"
      ]
     },
     "metadata": {},
     "output_type": "display_data"
    },
    {
     "name": "stdout",
     "output_type": "stream",
     "text": [
      "              precision    recall  f1-score   support\n",
      "\n",
      "          No       0.64      1.00      0.78         7\n",
      "         Yes       1.00      0.20      0.33         5\n",
      "\n",
      "    accuracy                           0.67        12\n",
      "   macro avg       0.82      0.60      0.56        12\n",
      "weighted avg       0.79      0.67      0.59        12\n",
      "\n"
     ]
    }
   ],
   "source": [
    "from sklearn.metrics import confusion_matrix, classification_report\n",
    "import seaborn as sns\n",
    "import matplotlib.pyplot as plt\n",
    "\n",
    "# Predict on test set\n",
    "y_pred = (model.predict(X_test) > 0.5).astype(\"int32\")\n",
    "\n",
    "# Confusion matrix\n",
    "cm = confusion_matrix(y_test, y_pred)\n",
    "sns.heatmap(cm, annot=True, fmt='d', cmap='Blues', xticklabels=['No', 'Yes'], yticklabels=['No', 'Yes'])\n",
    "plt.xlabel('Predicted')\n",
    "plt.ylabel('True')\n",
    "plt.title('Confusion Matrix')\n",
    "plt.show()\n",
    "\n",
    "# Classification report\n",
    "print(classification_report(y_test, y_pred, target_names=['No', 'Yes']))\n"
   ]
  },
  {
   "cell_type": "code",
   "execution_count": 5,
   "id": "5918f271",
   "metadata": {
    "execution": {
     "iopub.execute_input": "2024-11-26T19:54:56.372770Z",
     "iopub.status.busy": "2024-11-26T19:54:56.372073Z",
     "iopub.status.idle": "2024-11-26T19:54:56.380644Z",
     "shell.execute_reply": "2024-11-26T19:54:56.379652Z"
    },
    "papermill": {
     "duration": 0.01812,
     "end_time": "2024-11-26T19:54:56.383107",
     "exception": false,
     "start_time": "2024-11-26T19:54:56.364987",
     "status": "completed"
    },
    "tags": []
   },
   "outputs": [],
   "source": [
    "from tensorflow.keras.preprocessing.image import ImageDataGenerator\n",
    "\n",
    "datagen = ImageDataGenerator(\n",
    "    rotation_range=20,\n",
    "    width_shift_range=0.2,\n",
    "    height_shift_range=0.2,\n",
    "    zoom_range=0.2,\n",
    "    horizontal_flip=True\n",
    ")\n",
    "\n",
    "datagen.fit(X_train)\n"
   ]
  },
  {
   "cell_type": "code",
   "execution_count": 6,
   "id": "d3294c45",
   "metadata": {
    "execution": {
     "iopub.execute_input": "2024-11-26T19:54:56.396105Z",
     "iopub.status.busy": "2024-11-26T19:54:56.395291Z",
     "iopub.status.idle": "2024-11-26T19:54:56.621684Z",
     "shell.execute_reply": "2024-11-26T19:54:56.620547Z"
    },
    "papermill": {
     "duration": 0.235246,
     "end_time": "2024-11-26T19:54:56.623937",
     "exception": false,
     "start_time": "2024-11-26T19:54:56.388691",
     "status": "completed"
    },
    "tags": []
   },
   "outputs": [
    {
     "data": {
      "image/png": "[encoded data removed]",
      "text/plain": [
       "<Figure size 640x480 with 1 Axes>"
      ]
     },
     "metadata": {},
     "output_type": "display_data"
    }
   ],
   "source": [
    "# Plot training vs validation accuracy\n",
    "plt.plot(history.history['accuracy'], label='Train Accuracy')\n",
    "plt.plot(history.history['val_accuracy'], label='Validation Accuracy')\n",
    "plt.xlabel('Epochs')\n",
    "plt.ylabel('Accuracy')\n",
    "plt.legend()\n",
    "plt.title('Training vs Validation Accuracy')\n",
    "plt.show()\n"
   ]
  }
 ],
 "metadata": {
  "kaggle": {
   "accelerator": "none",
   "dataSources": [
    {
     "datasetId": 6171821,
     "sourceId": 10022599,
     "sourceType": "datasetVersion"
    }
   ],
   "dockerImageVersionId": 30786,
   "isGpuEnabled": false,
   "isInternetEnabled": true,
   "language": "python",
   "sourceType": "notebook"
  },
  "kernelspec": {
   "display_name": "Python 3",
   "language": "python",
   "name": "python3"
  },
  "language_info": {
   "codemirror_mode": {
    "name": "ipython",
    "version": 3
   },
   "file_extension": ".py",
   "mimetype": "text/x-python",
   "name": "python",
   "nbconvert_exporter": "python",
   "pygments_lexer": "ipython3",
   "version": "3.10.14"
  },
  "papermill": {
   "default_parameters": {},
   "duration": 31.03892,
   "end_time": "2024-11-26T19:54:58.356372",
   "environment_variables": {},
   "exception": null,
   "input_path": "__notebook__.ipynb",
   "output_path": "__notebook__.ipynb",
   "parameters": {},
   "start_time": "2024-11-26T19:54:27.317452",
   "version": "2.6.0"
  }
 },
 "nbformat": 4,
 "nbformat_minor": 5
}
